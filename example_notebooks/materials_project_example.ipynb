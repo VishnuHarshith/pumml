{
 "cells": [
  {
   "cell_type": "markdown",
   "metadata": {},
   "source": [
    "## Training Positive and Unlabeled Materials Machine Learning (PUMML) models on Materials Project data\n",
    "This notebook shows how to:\n",
    "* Access material structures from the Materials Project (MP) using the Materials API (MAPI) or figshare and label them as synthesized (1) or not-yet synthesized (0).  \n",
    "* Featurize materials and pre-process data for machine learning.\n",
    "* Train PUMML models to predict material synthesizability.\n",
    "* Evaluate and interpret model outputs."
   ]
  },
  {
   "cell_type": "code",
   "execution_count": null,
   "metadata": {},
   "outputs": [],
   "source": [
    "%load_ext autoreload\n",
    "%autoreload 2"
   ]
  },
  {
   "cell_type": "code",
   "execution_count": 2,
   "metadata": {},
   "outputs": [],
   "source": [
    "import pandas as pd\n",
    "import numpy as np\n",
    "from datetime import datetime\n",
    "\n",
    "from monty.serialization import loadfn, dumpfn\n",
    "\n",
    "from pymatgen.ext.matproj import MPRester\n",
    "from pymatgen.core import Structure"
   ]
  },
  {
   "cell_type": "markdown",
   "metadata": {},
   "source": [
    "### Accessing MP data"
   ]
  },
  {
   "cell_type": "markdown",
   "metadata": {},
   "source": [
    "You can access all MP structures (as of 04-24-2020) directly from figshare: https://figshare.com/account/home#/collections/4952793.  \n",
    "\n",
    "However, the MP is constantly being updated and new structures are added. It is highly recommended that you use the MAPI to pull structure data that you are interested in. \n",
    "\n",
    "This code shows how to apply some criteria (e.g., ignore compounds with f-block elements), get MP IDs (which does not take much time), and then download structures in chunks (time-consuming)."
   ]
  },
  {
   "cell_type": "code",
   "execution_count": null,
   "metadata": {},
   "outputs": [],
   "source": [
    "# Treat materials with f-block electrons separately.\n",
    "fblock = ['Ce', 'Pr', 'Nd', 'Pm', 'Sm', 'Eu', 'Gd', 'Tb', 'Dy', 'Ho', 'Er', \n",
    "         'Tm', 'Yb', 'Lu', 'Th', 'Pa', 'U', 'Np', 'Pu', 'Am', 'Cm', 'Bk',\n",
    "         'Cf', 'Es', 'Fm', 'Md', 'No', 'Lr']\n",
    "\n",
    "criteria = {\"elements\": {\"$nin\": fblock}}  # exclude fblock"
   ]
  },
  {
   "cell_type": "code",
   "execution_count": null,
   "metadata": {},
   "outputs": [],
   "source": [
    "# https://wiki.materialsproject.org/The_Materials_API\n",
    "mpids = []\n",
    "with MPRester() as m:  # include api key as argument or configure with pmg command line \n",
    "    mp_ids = m.query(criteria, [\"material_id\"], chunk_size=0)"
   ]
  },
  {
   "cell_type": "code",
   "execution_count": null,
   "metadata": {},
   "outputs": [],
   "source": [
    "# Tag with date collected\n",
    "today = datetime.today().strftime('%Y-%m-%d')\n",
    "\n",
    "mp_ids = [mpid['material_id'] for mpid in mp_ids]\n",
    "dumpfn(mp_ids, \"mp_ids_%s.json\" % (today))"
   ]
  },
  {
   "cell_type": "code",
   "execution_count": null,
   "metadata": {},
   "outputs": [],
   "source": [
    "mp_ids = loadfn('mp_ids_%s.json' %(today))"
   ]
  },
  {
   "cell_type": "markdown",
   "metadata": {},
   "source": [
    "The sublists contain MP IDs in chunks of 1000."
   ]
  },
  {
   "cell_type": "code",
   "execution_count": null,
   "metadata": {},
   "outputs": [],
   "source": [
    "chunk_size = 1000\n",
    "sublists = [mp_ids[i:i+chunk_size] for i in range(0, len(mp_ids), chunk_size)]\n",
    "\n",
    "# MPRester.supported_properties\n",
    "properties = ['energy_per_atom', 'formation_energy_per_atom',\n",
    "              'e_above_hull', 'icsd_ids',\n",
    "             'material_id', 'structure']\n",
    "\n",
    "data = []\n",
    "# Get all materials from MP by mpid\n",
    "with MPRester() as m:  # use api_key arg or set up with pmg command line tool\n",
    "    for sublist in sublists:\n",
    "        data += m.query({\"material_id\":{\"$in\": sublist}}, properties=properties)"
   ]
  },
  {
   "cell_type": "code",
   "execution_count": null,
   "metadata": {},
   "outputs": [],
   "source": [
    "dumpfn(data, \"mp_fblock_%s.json\" % (today))"
   ]
  },
  {
   "cell_type": "markdown",
   "metadata": {},
   "source": [
    "### Access a small sample dataset\n",
    "We want to be responsible users of the MAPI, so to test out pumml models we can work with small MP datasets that are already downloaded.\n",
    "Download a small example set here: https://figshare.com/articles/500_example_structures_from_Materials_Project/12252962"
   ]
  },
  {
   "cell_type": "code",
   "execution_count": null,
   "metadata": {},
   "outputs": [],
   "source": [
    "data = loadfn('mp_example_dataset_042420.json')  # json file must be in same directory as this notebook"
   ]
  },
  {
   "cell_type": "markdown",
   "metadata": {},
   "source": [
    "### Data pre-processing"
   ]
  },
  {
   "cell_type": "code",
   "execution_count": null,
   "metadata": {},
   "outputs": [],
   "source": [
    "df_pumml = pd.DataFrame(data)"
   ]
  },
  {
   "cell_type": "markdown",
   "metadata": {},
   "source": [
    "If a structure matches an experimentally determined crystal structure from the Inorganic Crystal Structure Database (ICSD), then it is labeled as synthesized (1). "
   ]
  },
  {
   "cell_type": "code",
   "execution_count": null,
   "metadata": {},
   "outputs": [],
   "source": [
    "# PU_label is 1 (0) if experimental crystal structure exists (doesn't exist)\n",
    "df_pumml['PU_label'] = df_pumml.icsd_ids.apply(lambda x: 0 if not x else 1)"
   ]
  },
  {
   "cell_type": "code",
   "execution_count": null,
   "metadata": {},
   "outputs": [],
   "source": [
    "df_pumml.PU_label.value_counts()"
   ]
  },
  {
   "cell_type": "code",
   "execution_count": null,
   "metadata": {},
   "outputs": [],
   "source": [
    "df_pumml.head()"
   ]
  },
  {
   "cell_type": "markdown",
   "metadata": {},
   "source": [
    "### Manual featurization\n",
    "The thermodynamic data from DFT will do most of the heavy lifting for model predictions, but we'll add some additional features so we can look for trends later."
   ]
  },
  {
   "cell_type": "code",
   "execution_count": null,
   "metadata": {},
   "outputs": [],
   "source": [
    "from matminer.featurizers.structure import DensityFeatures, GlobalSymmetryFeatures\n",
    "from matminer.featurizers.composition import Meredig, CohesiveEnergy\n",
    "\n",
    "dfeat = DensityFeatures()\n",
    "symmfeat = GlobalSymmetryFeatures()\n",
    "cefeat = CohesiveEnergy()"
   ]
  },
  {
   "cell_type": "code",
   "execution_count": null,
   "metadata": {},
   "outputs": [],
   "source": [
    "densities, vpas, pfs, sgns, cenergies, mpids = [], [], [], [], [], []\n",
    "for row in df_pumml.itertuples():\n",
    "    f1, f2, f3, f4, f5 = 0, 0, 0, 0, 0\n",
    "    try:\n",
    "        s = row[6]\n",
    "        mpid = row[5]\n",
    "        mpids.append(mpid)\n",
    "        fepa = row[2]\n",
    "        c = s.composition\n",
    "\n",
    "        f = dfeat.featurize(s)\n",
    "        f1 = f[0]\n",
    "        f2 = f[1]\n",
    "        f3 = f[2]\n",
    "\n",
    "        f = symmfeat.featurize(s)\n",
    "        f4 = f[0]\n",
    "        \n",
    "        f = cefeat.featurize(c, formation_energy_per_atom=fepa)\n",
    "        f5 = f[0]\n",
    "    except:\n",
    "        pass\n",
    "    \n",
    "    densities.append(f1)\n",
    "    vpas.append(f2)\n",
    "    pfs.append(f3)\n",
    "    sgns.append(f4)\n",
    "    cenergies.append(f5)"
   ]
  },
  {
   "cell_type": "code",
   "execution_count": null,
   "metadata": {},
   "outputs": [],
   "source": [
    "df_feats = pd.DataFrame({'material_id': mpids, 'density': densities, 'vpa': vpas, 'packing fraction': pfs,\n",
    "                         'spacegroup_num': sgns, 'cohesive_energy': cenergies})"
   ]
  },
  {
   "cell_type": "code",
   "execution_count": null,
   "metadata": {},
   "outputs": [],
   "source": [
    "df_pumml['structure'] = df_pumml.structure.apply(lambda x: x.as_dict())"
   ]
  },
  {
   "cell_type": "code",
   "execution_count": null,
   "metadata": {},
   "outputs": [],
   "source": [
    "df_featurized = df_pumml.merge(df_feats, on='material_id')"
   ]
  },
  {
   "cell_type": "code",
   "execution_count": null,
   "metadata": {},
   "outputs": [],
   "source": [
    "# Add a column indicating if cohesive energy was computed successfully\n",
    "df_featurized['no_cohesive_energy'] = df_featurized.cohesive_energy.apply(lambda x: 1 if x > 0 else 0)"
   ]
  },
  {
   "cell_type": "code",
   "execution_count": null,
   "metadata": {},
   "outputs": [],
   "source": [
    "df_featurized = df_featurized[df_featurized['spacegroup_num'] > 0]  # ignore compounds that failed to featurize"
   ]
  },
  {
   "cell_type": "code",
   "execution_count": null,
   "metadata": {},
   "outputs": [],
   "source": [
    "fillval = df_featurized.query('cohesive_energy>0').cohesive_energy.mean()"
   ]
  },
  {
   "cell_type": "code",
   "execution_count": null,
   "metadata": {},
   "outputs": [],
   "source": [
    "# Fill missing cohesive energies with the mean value\n",
    "df_featurized['cohesive_energy'] = df_featurized.cohesive_energy.apply(lambda x: x if x > 0 else fillval)"
   ]
  },
  {
   "cell_type": "markdown",
   "metadata": {},
   "source": [
    "Write the processed data to a json file that will be read by pumml."
   ]
  },
  {
   "cell_type": "code",
   "execution_count": null,
   "metadata": {},
   "outputs": [],
   "source": [
    "df_featurized.to_json('pumml_mp_dataset.json')"
   ]
  },
  {
   "cell_type": "markdown",
   "metadata": {},
   "source": [
    "### Train a pumml model"
   ]
  },
  {
   "cell_type": "code",
   "execution_count": null,
   "metadata": {},
   "outputs": [],
   "source": [
    "from pumml.learners import PULearner"
   ]
  },
  {
   "cell_type": "code",
   "execution_count": null,
   "metadata": {},
   "outputs": [],
   "source": [
    "pul = PULearner()\n",
    "\n",
    "# Set hyperparameters to reasonable defaults\n",
    "n_splits = 5 # kfold CV\n",
    "n_repeats = 3  # Repeat the entire kfold CV n times for averaging\n",
    "n_bags = 100  # bags for bootstrap aggregating.\n",
    "\n",
    "pu_stats = pul.cv_baggingDT('pumml_mp_dataset.json', splits=n_splits, repeats=n_repeats, bags=n_bags)"
   ]
  },
  {
   "cell_type": "markdown",
   "metadata": {},
   "source": [
    "### Take a look at synthetic accessibility scores of unlabeled compounds"
   ]
  },
  {
   "cell_type": "code",
   "execution_count": null,
   "metadata": {},
   "outputs": [],
   "source": [
    "df1 = pul.df_U.copy()\n",
    "df1['synth_score'] = pu_stats['prob']"
   ]
  },
  {
   "cell_type": "code",
   "execution_count": null,
   "metadata": {},
   "outputs": [],
   "source": [
    "# Inspect compounds with highest synthetic accessibility scores\n",
    "df1.sort_values(by='synth_score', ascending=False)[:20]"
   ]
  },
  {
   "cell_type": "code",
   "execution_count": null,
   "metadata": {},
   "outputs": [],
   "source": [
    "df1.synth_score.plot(kind='kde')"
   ]
  },
  {
   "cell_type": "code",
   "execution_count": null,
   "metadata": {},
   "outputs": [],
   "source": [
    "df1.query('synth_score>0.5').spacegroup_num.value_counts()"
   ]
  },
  {
   "cell_type": "code",
   "execution_count": null,
   "metadata": {},
   "outputs": [],
   "source": [
    "# Save synthesis scores\n",
    "df1.drop(columns=['structure', 'icsd_ids', 'PU_label']).to_json('synth_scores.json')"
   ]
  },
  {
   "cell_type": "code",
   "execution_count": null,
   "metadata": {},
   "outputs": [],
   "source": [
    "print('Number of predicted positives: ', len(df1.query('synth_score > 0.5')))\n",
    "print('Percentage of predicted positives: ', round(len(df1.query('synth_score > 0.5')) / len(df1), 3))"
   ]
  },
  {
   "cell_type": "code",
   "execution_count": null,
   "metadata": {},
   "outputs": [],
   "source": [
    "pul.get_feat_importances(plot_format='png')"
   ]
  }
 ],
 "metadata": {
  "kernelspec": {
   "display_name": "pmg_env",
   "language": "python",
   "name": "pmg_env"
  },
  "language_info": {
   "codemirror_mode": {
    "name": "ipython",
    "version": 3
   },
   "file_extension": ".py",
   "mimetype": "text/x-python",
   "name": "python",
   "nbconvert_exporter": "python",
   "pygments_lexer": "ipython3",
   "version": "3.6.7"
  }
 },
 "nbformat": 4,
 "nbformat_minor": 4
}
